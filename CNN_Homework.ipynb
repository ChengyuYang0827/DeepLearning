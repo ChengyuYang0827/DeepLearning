{
  "nbformat": 4,
  "nbformat_minor": 0,
  "metadata": {
    "colab": {
      "name": "Untitled0.ipynb",
      "provenance": [],
      "collapsed_sections": []
    },
    "kernelspec": {
      "name": "python3",
      "display_name": "Python 3"
    },
    "language_info": {
      "name": "python"
    }
  },
  "cells": [
    {
      "cell_type": "code",
      "source": [
        "from torch.autograd import Variable\n",
        "import torch.nn.functional as F\n",
        "import torch.nn as nn\n",
        "import torch"
      ],
      "metadata": {
        "id": "7Jlu8uyaEptP"
      },
      "execution_count": 28,
      "outputs": []
    },
    {
      "cell_type": "code",
      "source": [
        "net = nn.Sequential( \t# nn.Conv2d(in_channels,...),\n",
        "\t\t\t\t\t\t\t\t\t# activation fun,\n",
        "\t\t\t\t\t\t\t\t\t# dropout,\n",
        "\t\t\t\t\t\t\t\t\t# nn.Conv2d(in_channels,...),\n",
        "\t\t\t\t\t\t\t\t\t# activation fun,\n",
        "\t\t\t\t\t\t\t\t\t# dropout,\n",
        "\t\t\t\t\t\t\t\t\t## continue like above,\n",
        "\t\t\t\t\t\t\t\t\t## **define pooling (bonus)**,\n",
        "\t\t\t\t\t\t\t\t\tnn.Conv2d(1,64,4,1,1),\n",
        "\t\t\t\t\t\t\t\t\tnn.ReLU(),\n",
        "\t\t\t\t\t\t\t\t\tnn.MaxPool2d(2,2),\n",
        "\t\t\t\t\t\t\t\t\t\n",
        "\t\t\t\t\t\t\t\t\tnn.Conv2d(64,64,4,1,1),\n",
        "\t\t\t\t\t\t\t\t\tnn.ReLU(),\n",
        "\t\t\t\t\t\t\t\t\tnn.MaxPool2d(2,2),\n",
        "\t\t\t\t\t\t\t\t\t\n",
        "\n",
        "\t\t\t\t\t\t\t\t\tnn.Conv2d(64,64,4,1,1),\n",
        "\t\t\t\t\t\t\t\t\tnn.ReLU(),\n",
        "\t\t\t\t\t\t\t\t\tnn.MaxPool2d(2,2),\n",
        "\n",
        "                  nn.Flatten()\n",
        "\t\t\t\t\t\t\t\t)"
      ],
      "metadata": {
        "id": "12KUXfvZEzHq"
      },
      "execution_count": 29,
      "outputs": []
    },
    {
      "cell_type": "code",
      "source": [
        "X = torch.randn(1, 1, 28, 28)\n",
        "for layer in net:\n",
        "    X=layer(X)\n",
        "    print(layer.__class__.__name__,'output shape:\\t',X.shape)"
      ],
      "metadata": {
        "colab": {
          "base_uri": "https://localhost:8080/"
        },
        "id": "WfBQKKdhG8b1",
        "outputId": "cc4bad18-fb83-4cdc-c204-774641f4ab99"
      },
      "execution_count": 3,
      "outputs": [
        {
          "output_type": "stream",
          "name": "stdout",
          "text": [
            "Conv2d output shape:\t torch.Size([1, 64, 27, 27])\n",
            "ReLU output shape:\t torch.Size([1, 64, 27, 27])\n",
            "MaxPool2d output shape:\t torch.Size([1, 64, 13, 13])\n",
            "Conv2d output shape:\t torch.Size([1, 64, 12, 12])\n",
            "ReLU output shape:\t torch.Size([1, 64, 12, 12])\n",
            "MaxPool2d output shape:\t torch.Size([1, 64, 6, 6])\n",
            "Conv2d output shape:\t torch.Size([1, 64, 5, 5])\n",
            "ReLU output shape:\t torch.Size([1, 64, 5, 5])\n",
            "MaxPool2d output shape:\t torch.Size([1, 64, 2, 2])\n",
            "Flatten output shape:\t torch.Size([1, 256])\n"
          ]
        }
      ]
    },
    {
      "cell_type": "code",
      "source": [
        "class CNNModel(nn.Module):\n",
        "\t\"\"\"docstring for ClassName\"\"\"\n",
        "\t\n",
        "\tdef __init__(self, args):\n",
        "\t\tsuper(CNNModel, self).__init__()\n",
        "\t\t##-----------------------------------------------------------\n",
        "\t\t## define the model architecture here\n",
        "\t\t## MNIST image input size batch * 28 * 28 (one input channel)\n",
        "\t\t##-----------------------------------------------------------\n",
        "\t\t\n",
        "\t\t## define CNN layers below\n",
        "\t\tself.conv = nn.Sequential( \t# nn.Conv2d(in_channels,...),\n",
        "\t\t\t\t\t\t\t\t\t# activation fun,\n",
        "\t\t\t\t\t\t\t\t\t# dropout,\n",
        "\t\t\t\t\t\t\t\t\t# nn.Conv2d(in_channels,...),\n",
        "\t\t\t\t\t\t\t\t\t# activation fun,\n",
        "\t\t\t\t\t\t\t\t\t# dropout,\n",
        "\t\t\t\t\t\t\t\t\t## continue like above,\n",
        "\t\t\t\t\t\t\t\t\t## **define pooling (bonus)**,\n",
        "\t\t\t\t\t\t\t\t\tnn.Conv2d(1,64,4,1,1),\n",
        "                  nn.BatchNorm2d(64),\n",
        "\t\t\t\t\t\t\t\t\tnn.ReLU(),\n",
        "\t\t\t\t\t\t\t\t\tnn.MaxPool2d(2,2),\n",
        "\t\t\t\t\t\t\t\t\t\n",
        "\t\t\t\t\t\t\t\t\tnn.Conv2d(64,64,4,1,1),\n",
        "                  nn.BatchNorm2d(64),\n",
        "\t\t\t\t\t\t\t\t\tnn.ReLU(),\n",
        "\t\t\t\t\t\t\t\t\tnn.MaxPool2d(2,2),\n",
        "\t\t\t\t\t\t\t\t\t\n",
        "\n",
        "\t\t\t\t\t\t\t\t\tnn.Conv2d(64,64,4,1,1),\n",
        "                  nn.BatchNorm2d(64),\n",
        "\t\t\t\t\t\t\t\t\tnn.ReLU(),\n",
        "\t\t\t\t\t\t\t\t\tnn.MaxPool2d(2,2),\n",
        "\n",
        "\t\t\t\t\t\t\t\t)\n",
        "\n",
        "\t\t##------------------------------------------------\n",
        "\t\t## write code to define fully connected layer below\n",
        "\t\t##------------------------------------------------\n",
        "\t\tin_size = 256\n",
        "\t\tout_size = 128\n",
        "\t\tself.fc = nn.Sequential(nn.Linear(in_size,out_size),\n",
        "                            nn.BatchNorm1d(out_size),\n",
        "                            nn.ReLU(),\n",
        "                            nn.Dropout(0.4),\n",
        "                            nn.Linear(out_size,10)\n",
        "                          )\n",
        "\n",
        "\t\t\n",
        "\n",
        "\t'''feed features to the model'''\n",
        "\tdef forward(self, x):  #default\n",
        "\t\t\n",
        "\t\t##---------------------------------------------------------\n",
        "\t\t## write code to feed input features to the CNN models defined above\n",
        "\t\t##---------------------------------------------------------\n",
        "\t\tx_out = self.conv(x)\n",
        "\n",
        "\t\t## write flatten tensor code below (it is done)\n",
        "\t\tx = torch.flatten(x_out,1) # x_out is output of last layer\n",
        "\t\t\n",
        "\n",
        "\t\t## ---------------------------------------------------\n",
        "\t\t## write fully connected layer (Linear layer) below\n",
        "\t\t## ---------------------------------------------------\n",
        "\t\tresult =  self.fc(x) # predict y\n",
        "\t\t\n",
        "\t\t\n",
        "\t\treturn result\n",
        "        "
      ],
      "metadata": {
        "id": "2Vm2ig1FHzk3"
      },
      "execution_count": 30,
      "outputs": []
    },
    {
      "cell_type": "code",
      "source": [
        "import argparse\n",
        "import subprocess\n",
        "\n",
        "'''\n",
        "fun: convert string to boolean: True and False\n",
        "'''\n",
        "def str2bool(v):\n",
        "    # codes from : https://stackoverflow.com/questions/15008758/parsing-boolean-values-with-argparse\n",
        "\n",
        "    if v.lower() in ('yes', 'true', 't', 'y', '1'):\n",
        "        return True\n",
        "    elif v.lower() in ('no', 'false', 'f', 'n', '0'):\n",
        "        return False\n",
        "    else:\n",
        "        raise argparse.ArgumentTypeError('Boolean value expected.')\n",
        "    "
      ],
      "metadata": {
        "id": "QRmFsmctI-P7"
      },
      "execution_count": 31,
      "outputs": []
    },
    {
      "cell_type": "code",
      "source": [
        "\"\"\"\n",
        "Fun: CNN for MNIST classification\n",
        "\"\"\"\n",
        "\n",
        "\n",
        "import numpy as np\n",
        "import time\n",
        "import h5py\n",
        "import argparse\n",
        "import os.path\n",
        "import torch\n",
        "from torch.autograd import Variable\n",
        "import torch.nn as nn\n",
        "import torch.optim as optim\n",
        "# from util import _create_batch\n",
        "import json\n",
        "import torchvision\n",
        "# from torch.utils.tensorboard import SummaryWriter\n",
        "import torchvision.transforms as transforms\n",
        "from torch.utils.data import DataLoader\n",
        "from torch.utils.tensorboard import SummaryWriter\n",
        "import matplotlib.pyplot as plt\n"
      ],
      "metadata": {
        "id": "BwyDJWkuJDm0"
      },
      "execution_count": 32,
      "outputs": []
    },
    {
      "cell_type": "code",
      "source": [
        "## input hyper-paras\n",
        "parser = argparse.ArgumentParser(description = \"nueral networks\")\n",
        "parser.add_argument(\"-mode\", dest=\"mode\", type=str, default='train', help=\"train or test\")\n",
        "parser.add_argument(\"-num_epoches\", dest=\"num_epoches\", type=int, default=10, help=\"num of epoches\")\n",
        "\n",
        "# parser.add_argument(\"-fc_hidden1\", dest=\"fc_hidden1\", type=int, default=100, help=\"dim of hidden neurons\")\n",
        "# parser.add_argument(\"-fc_hidden2\", dest=\"fc_hidden2\", type=int, default=100, help=\"dim of hidden neurons\")\n",
        "parser.add_argument(\"-learning_rate\", dest =\"learning_rate\", type=float, default=0.001, help = \"learning rate\")\n",
        "parser.add_argument(\"-decay\", dest =\"decay\", type=float, default=0.5, help = \"learning rate\")\n",
        "parser.add_argument(\"-batch_size\", dest=\"batch_size\", type=int, default=200, help=\"batch size\")\n",
        "parser.add_argument(\"-dropout\", dest =\"dropout\", type=float, default=0.4, help = \"dropout prob\")\n",
        "parser.add_argument(\"-rotation\", dest=\"rotation\", type=int, default=10, help=\"image rotation\")\n",
        "parser.add_argument(\"-load_checkpoint\", dest=\"load_checkpoint\", type=str2bool, default=False, help=\"true of false\")\n",
        "\n",
        "parser.add_argument(\"-activation\", dest=\"activation\", type=str, default='relu', help=\"activation function\")\n",
        "# parser.add_argument(\"-MC\", dest='MC', type=int, default=10, help=\"number of monte carlo\")\n",
        "parser.add_argument(\"-channel_out1\", dest='channel_out1', type=int, default=64, help=\"number of channels\")\n",
        "parser.add_argument(\"-channel_out2\", dest='channel_out2', type=int, default=64, help=\"number of channels\")\n",
        "parser.add_argument(\"-k_size\", dest='k_size', type=int, default=4, help=\"size of filter\")\n",
        "parser.add_argument(\"-pooling_size\", dest='pooling_size', type=int, default=2, help=\"size for max pooling\")\n",
        "parser.add_argument(\"-stride\", dest='stride', type=int, default=1, help=\"stride for filter\")\n",
        "parser.add_argument(\"-max_stride\", dest='max_stride', type=int, default=2, help=\"stride for max pooling\")\n",
        "parser.add_argument(\"-ckp_path\", dest='ckp_path', type=str, default=\"checkpoint\", help=\"path of checkpoint\")"
      ],
      "metadata": {
        "colab": {
          "base_uri": "https://localhost:8080/"
        },
        "id": "6RqXQ99oJJ8m",
        "outputId": "bcfc66ef-d8f8-4aba-e7e6-9c7c148e713a"
      },
      "execution_count": 33,
      "outputs": [
        {
          "output_type": "execute_result",
          "data": {
            "text/plain": [
              "_StoreAction(option_strings=['-ckp_path'], dest='ckp_path', nargs=None, const=None, default='checkpoint', type=<class 'str'>, choices=None, help='path of checkpoint', metavar=None)"
            ]
          },
          "metadata": {},
          "execution_count": 33
        }
      ]
    },
    {
      "cell_type": "code",
      "source": [
        "args, unknown = parser.parse_known_args()"
      ],
      "metadata": {
        "id": "XXRcUKlcKr6g"
      },
      "execution_count": 34,
      "outputs": []
    },
    {
      "cell_type": "code",
      "source": [
        "def _load_data(DATA_PATH, batch_size):\n",
        "\t'''Data loader'''\n",
        "\n",
        "\tprint(\"data_path: \", DATA_PATH)\n",
        "\ttrain_trans = transforms.Compose([transforms.RandomRotation(args.rotation),transforms.RandomHorizontalFlip(),\\\n",
        "\t\t\t\t\t\t\t\ttransforms.ToTensor(), transforms.Normalize((0.5), (0.5))])\n",
        "\t\n",
        "\ttrain_dataset = torchvision.datasets.MNIST(root=DATA_PATH, download=True,train=True, transform=train_trans)\n",
        "\ttrain_loader = DataLoader(dataset=train_dataset, batch_size=batch_size, shuffle=True,num_workers=8)\n",
        "\t\n",
        "\t## for testing\n",
        "\ttest_trans = transforms.Compose([transforms.ToTensor(), transforms.Normalize((0.5), (0.5))])\n",
        "\ttest_dataset = torchvision.datasets.MNIST(root=DATA_PATH, download=True, train=False, transform=test_trans)\n",
        "\ttest_loader = DataLoader(dataset=test_dataset, batch_size=batch_size, shuffle=False, num_workers=8)\n",
        "\t\n",
        "\treturn train_loader, test_loader\n"
      ],
      "metadata": {
        "id": "vJmsgVecS5Hi"
      },
      "execution_count": 35,
      "outputs": []
    },
    {
      "cell_type": "code",
      "source": [
        "def _compute_accuracy(y_pred, y_batch):\n",
        "\t## --------------------------------------------\n",
        "\t## write the code of computing accuracy below\n",
        "\t## --------------------------------------------\n",
        "\taccy = np.sum(np.array(y_pred) == np.array(y_batch))/len(y_batch)\n",
        "\treturn accy"
      ],
      "metadata": {
        "id": "71EizkurS6Xr"
      },
      "execution_count": 36,
      "outputs": []
    },
    {
      "cell_type": "code",
      "source": [
        "def adjust_learning_rate(learning_rate, optimizer, epoch, decay):\n",
        "\t\"\"\"Sets the learning rate to the initial LR decayed by 1/10 every args.lr epochs\"\"\"\n",
        "\tlr = learning_rate\n",
        "\tif (epoch > 5):\n",
        "\t\tlr = 0.001\n",
        "\tif (epoch >= 10):\n",
        "\t\tlr = 0.0001\n",
        "\tif (epoch > 20):\n",
        "\t\tlr = 0.00001\n",
        "\t\n",
        "\tfor param_group in optimizer.param_groups:\n",
        "\t\tparam_group['lr'] = lr\n",
        "\t# print(\"learning_rate: \", lr)"
      ],
      "metadata": {
        "id": "UQAd1MEeS8_t"
      },
      "execution_count": 37,
      "outputs": []
    },
    {
      "cell_type": "code",
      "source": [
        "def _save_checkpoint(ckp_path, model, epoches, optimizer, global_step):\n",
        "\tcheckpoint = {'epoch':epoches,\n",
        "\t\t\t\t\t'global_step':global_step, #iterations\n",
        "\t\t\t\t\t'model_state_dict':model.state_dict(),\n",
        "\t\t\t\t\t'optimizer_state_dict':optimizer.state_dict()\n",
        "\t\t\t\t\t}\n",
        "\ttorch.save(checkpoint, ckp_path)\n",
        "\n",
        "def _load_checkpoint(ckp_path,model,optimizer):\n",
        "\tcheckpoint = torch.load(ckp_path)\n",
        "\t# load parameters such as W and b to models\n",
        "\tmodel.load_state_dict(checkpoint['model_state_dict'])\n",
        "\toptimizer.load_state_dict(checkpoint['optimizer_state_dict'])\n",
        "\tepoches = checkpoint['epoch']"
      ],
      "metadata": {
        "id": "lObT3vySTDxu"
      },
      "execution_count": 38,
      "outputs": []
    },
    {
      "cell_type": "code",
      "source": [
        "def main():\n",
        "\n",
        "  use_cuda = torch.cuda.is_available() ## if have gpu or cpu \n",
        "  device = torch.device(\"cuda\" if use_cuda else \"cpu\")\n",
        "  if use_cuda:\n",
        "    torch.cuda.set_device(device=0) ## choose gpu number 0\n",
        "  print(\"device: \", device)\n",
        "  if use_cuda:\n",
        "    torch.cuda.manual_seed(72)\n",
        "\n",
        "  ## initialize hyper-parameters\n",
        "  num_epoches = args.num_epoches\n",
        "  decay = args.decay\n",
        "  learning_rate = args.learning_rate\n",
        "  \n",
        "\n",
        "  ## step 1: Load data\n",
        "  DATA_PATH = \"./data/\"\n",
        "  train_loader, test_loader=_load_data(DATA_PATH, args.batch_size)\n",
        "\n",
        "  ##-------------------------------------------------------\n",
        "  ## please write the code about model initialization below\n",
        "  ##-------------------------------------------------------\n",
        "  model = CNNModel(args) #kernel size, stride\n",
        "  ## load model to gpu or cpu\n",
        "  model.to(device)\n",
        "  \n",
        "  ## --------------------------------------------------\n",
        "  ## Complete code about defining the LOSS FUNCTION\n",
        "  ## --------------------------------------------------\n",
        "  optimizer = optim.Adam(model.parameters(),lr=learning_rate)  ## optimizer\n",
        "  loss_fun = nn.CrossEntropyLoss()  ## cross entropy loss\n",
        "  \n",
        "  ##--------------------------------------------\n",
        "  ## load checkpoint below if you need\n",
        "  ##--------------------------------------------\n",
        "  if args.load_checkpoint:\n",
        "    # write load checkpoint code below\n",
        "    _load_checkpoint(args.ckp_path,model,optimizer)\n",
        "\n",
        "  writer = SummaryWriter()\n",
        "  iter = 0\n",
        "  training_accs = []\n",
        "  losses = []\n",
        "  ##  model training\n",
        "  if args.mode == 'train':\n",
        "    model = model.train()\n",
        "    for epoch in range(num_epoches): #10-50\n",
        "      ## learning rate\n",
        "      adjust_learning_rate(learning_rate, optimizer, epoch, decay)\n",
        "\n",
        "      for batch_id, (x_batch,y_labels) in enumerate(train_loader):\n",
        "        x_batch,y_labels = Variable(x_batch).to(device), Variable(y_labels).to(device)\n",
        "\n",
        "        ## feed input data x into model\n",
        "        output_y = model(x_batch)\n",
        "        \n",
        "        ##---------------------------------------------------\n",
        "        ## write loss function below, refer to tutorial slides\n",
        "        ##----------------------------------------------------\n",
        "        loss =  loss_fun(output_y, y_labels)\n",
        "        \n",
        "\n",
        "        ##----------------------------------------\n",
        "        ## write back propagation below\n",
        "        ##----------------------------------------\n",
        "        optimizer.zero_grad() # clear cache of gradients\n",
        "        loss.backward()\n",
        "        optimizer.step() # update params(Weights W and b)\n",
        "\n",
        "        ##------------------------------------------------------\n",
        "        ## get the predict result and then compute accuracy below\n",
        "        ##------------------------------------------------------\n",
        "        # _, y_pred = torch.max(output_y.data, 1)\n",
        "        y_pred = torch.argmax(output_y.data, 1) # only return index\n",
        "        accuracy = _compute_accuracy(y_pred, y_labels)\n",
        "        training_accs.append(accuracy)\n",
        "        if batch_id % 50 == 0:\n",
        "          print(\"epoch:\"+str(epoch)+\" batch:\"+str(batch_id)+\" training accuray:\"+str(accuracy))\n",
        "        \n",
        "        ##----------------------------------------------------------\n",
        "        ## loss.item() or use tensorboard to monitor the loss blow\n",
        "        ## if use loss.item(), you may use log txt files to save loss\n",
        "        ##----------------------------------------------------------\n",
        "        losses.append(loss.item())\n",
        "        writer.add_scalar('Loss', loss, iter)\n",
        "        iter += 1\n",
        "\n",
        "      ## -------------------------------------------------------------------\n",
        "      ## save checkpoint below (optional), every \"epoch\" save one checkpoint\n",
        "      ## -------------------------------------------------------------------\n",
        "      _save_checkpoint(args.ckp_path,model,epoch,optimizer,iter)\n",
        "  writer.close()\t\t\n",
        "      \n",
        "  ## Draw loss and accuracy fig\n",
        "  x = range(1,len(training_accs)+1)\n",
        "  plt.plot(x,training_accs,color='r',label=\"training accuracy\")\n",
        "  plt.plot(x,losses,color='g',label=\"loss\")\n",
        "  plt.xlabel(\"iteration\")\n",
        "  plt.show()\n",
        "\n",
        "  ##------------------------------------\n",
        "  ##    model testing code below\n",
        "  ##------------------------------------\n",
        "  model.eval()\n",
        "  with torch.no_grad():\n",
        "    test_accs=[]\n",
        "    for batch_id, (x_batch,y_labels) in enumerate(test_loader):\n",
        "      x_batch, y_labels = Variable(x_batch).to(device), Variable(y_labels).to(device)\n",
        "      ##---------------------------------------\n",
        "      ## write the predict result below\n",
        "      ##---------------------------------------\n",
        "      output_y = model(x_batch)\n",
        "      y_pred = torch.argmax(output_y.data, 1) # only return index\n",
        "        \n",
        "      ##--------------------------------------------------\n",
        "      ## complete code for computing the accuracy below\n",
        "      ##---------------------------------------------------\n",
        "      test_accs.append(_compute_accuracy(y_pred, y_labels))\n",
        "  print(\"\\n\\n Overall Test Accuracy:\"+str(np.average(test_accs[:-1])))\n"
      ],
      "metadata": {
        "id": "6hO826StTHIV"
      },
      "execution_count": 39,
      "outputs": []
    },
    {
      "cell_type": "code",
      "source": [
        "if __name__ == '__main__':\n",
        "\ttime_start = time.time()\n",
        "\tmain()\n",
        "\ttime_end = time.time()\n",
        "\tprint(\"running time: \", (time_end - time_start)/60.0, \"mins\")\n",
        "\t"
      ],
      "metadata": {
        "colab": {
          "base_uri": "https://localhost:8080/",
          "height": 1000
        },
        "id": "81jcwadiT0w9",
        "outputId": "5fc581d2-ce5a-4aa4-e570-aefb57110b7c"
      },
      "execution_count": 40,
      "outputs": [
        {
          "output_type": "stream",
          "name": "stdout",
          "text": [
            "device:  cpu\n",
            "data_path:  ./data/\n"
          ]
        },
        {
          "output_type": "stream",
          "name": "stderr",
          "text": [
            "/usr/local/lib/python3.7/dist-packages/torch/utils/data/dataloader.py:490: UserWarning: This DataLoader will create 8 worker processes in total. Our suggested max number of worker in current system is 2, which is smaller than what this DataLoader is going to create. Please be aware that excessive worker creation might get DataLoader running slow or even freeze, lower the worker number to avoid potential slowness/freeze if necessary.\n",
            "  cpuset_checked))\n"
          ]
        },
        {
          "output_type": "stream",
          "name": "stdout",
          "text": [
            "epoch:0 batch:0 training accuray:0.07\n",
            "epoch:0 batch:50 training accuray:0.9\n",
            "epoch:0 batch:100 training accuray:0.93\n",
            "epoch:0 batch:150 training accuray:0.955\n",
            "epoch:0 batch:200 training accuray:0.97\n",
            "epoch:0 batch:250 training accuray:0.93\n",
            "epoch:1 batch:0 training accuray:0.965\n",
            "epoch:1 batch:50 training accuray:0.97\n",
            "epoch:1 batch:100 training accuray:0.975\n",
            "epoch:1 batch:150 training accuray:0.98\n",
            "epoch:1 batch:200 training accuray:0.965\n",
            "epoch:1 batch:250 training accuray:0.965\n",
            "epoch:2 batch:0 training accuray:0.955\n",
            "epoch:2 batch:50 training accuray:0.98\n",
            "epoch:2 batch:100 training accuray:0.995\n",
            "epoch:2 batch:150 training accuray:0.98\n",
            "epoch:2 batch:200 training accuray:0.99\n",
            "epoch:2 batch:250 training accuray:0.985\n",
            "epoch:3 batch:0 training accuray:0.975\n",
            "epoch:3 batch:50 training accuray:0.975\n",
            "epoch:3 batch:100 training accuray:0.995\n",
            "epoch:3 batch:150 training accuray:0.99\n",
            "epoch:3 batch:200 training accuray:0.985\n",
            "epoch:3 batch:250 training accuray:0.985\n",
            "epoch:4 batch:0 training accuray:0.96\n",
            "epoch:4 batch:50 training accuray:0.98\n",
            "epoch:4 batch:100 training accuray:0.965\n",
            "epoch:4 batch:150 training accuray:0.99\n",
            "epoch:4 batch:200 training accuray:0.965\n",
            "epoch:4 batch:250 training accuray:0.975\n",
            "epoch:5 batch:0 training accuray:0.995\n",
            "epoch:5 batch:50 training accuray:0.985\n",
            "epoch:5 batch:100 training accuray:0.97\n",
            "epoch:5 batch:150 training accuray:0.99\n",
            "epoch:5 batch:200 training accuray:0.965\n",
            "epoch:5 batch:250 training accuray:0.985\n",
            "epoch:6 batch:0 training accuray:0.995\n",
            "epoch:6 batch:50 training accuray:0.98\n",
            "epoch:6 batch:100 training accuray:0.985\n",
            "epoch:6 batch:150 training accuray:0.98\n",
            "epoch:6 batch:200 training accuray:0.985\n",
            "epoch:6 batch:250 training accuray:0.995\n",
            "epoch:7 batch:0 training accuray:0.995\n",
            "epoch:7 batch:50 training accuray:1.0\n",
            "epoch:7 batch:100 training accuray:0.98\n",
            "epoch:7 batch:150 training accuray:0.97\n",
            "epoch:7 batch:200 training accuray:0.995\n",
            "epoch:7 batch:250 training accuray:1.0\n",
            "epoch:8 batch:0 training accuray:0.98\n",
            "epoch:8 batch:50 training accuray:0.975\n",
            "epoch:8 batch:100 training accuray:1.0\n",
            "epoch:8 batch:150 training accuray:0.98\n",
            "epoch:8 batch:200 training accuray:0.98\n",
            "epoch:8 batch:250 training accuray:0.975\n",
            "epoch:9 batch:0 training accuray:0.995\n",
            "epoch:9 batch:50 training accuray:0.995\n",
            "epoch:9 batch:100 training accuray:0.98\n",
            "epoch:9 batch:150 training accuray:0.99\n",
            "epoch:9 batch:200 training accuray:1.0\n",
            "epoch:9 batch:250 training accuray:0.985\n"
          ]
        },
        {
          "output_type": "display_data",
          "data": {
            "text/plain": [
              "<Figure size 432x288 with 1 Axes>"
            ],
            "image/png": "[encoded data removed]"
          },
          "metadata": {
            "needs_background": "light"
          }
        },
        {
          "output_type": "stream",
          "name": "stdout",
          "text": [
            "\n",
            "\n",
            " Overall Test Accuracy:0.9881632653061226\n",
            "running time:  28.81156431833903 mins\n"
          ]
        }
      ]
    }
  ]
}